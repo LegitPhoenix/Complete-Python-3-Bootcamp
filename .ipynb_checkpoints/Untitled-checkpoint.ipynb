{
 "cells": ["pipeline("text-generation", model="llm-blender/PairRM", trust_remote_code=True)"],
 "metadata": {},
 "nbformat": 4,
 "nbformat_minor": 2
}
